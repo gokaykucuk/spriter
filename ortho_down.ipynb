{
 "cells": [
  {
   "cell_type": "code",
   "id": "initial_id",
   "metadata": {
    "collapsed": true,
    "ExecuteTime": {
     "end_time": "2025-07-28T15:22:38.472319Z",
     "start_time": "2025-07-28T15:22:38.470629Z"
    }
   },
   "source": "URL = \"https://atlas.harita.gov.tr/webservis/ortofoto/17/75828/51124.jpg?apikey=rXKdDZxXgj2hgFspEC4BKG4HMittQ0Y6\"",
   "outputs": [],
   "execution_count": 3
  },
  {
   "metadata": {
    "ExecuteTime": {
     "end_time": "2025-07-28T15:22:31.210613Z",
     "start_time": "2025-07-28T15:22:31.151088Z"
    }
   },
   "cell_type": "code",
   "source": "import requests",
   "id": "e3003f509d419c4a",
   "outputs": [],
   "execution_count": 1
  },
  {
   "metadata": {
    "ExecuteTime": {
     "end_time": "2025-07-28T15:23:36.455553Z",
     "start_time": "2025-07-28T15:23:35.776795Z"
    }
   },
   "cell_type": "code",
   "source": [
    "resp = requests.get(URL,\n",
    "             headers={'referer': \"https://atlas.harita.gov.tr/\"})"
   ],
   "id": "4b72ab9629814575",
   "outputs": [],
   "execution_count": 6
  },
  {
   "metadata": {
    "ExecuteTime": {
     "end_time": "2025-07-28T15:24:17.841400Z",
     "start_time": "2025-07-28T15:24:17.780946Z"
    }
   },
   "cell_type": "code",
   "source": "from PIL import Image",
   "id": "aa0f20cbea639eaf",
   "outputs": [],
   "execution_count": 12
  },
  {
   "metadata": {
    "ExecuteTime": {
     "end_time": "2025-07-28T15:24:40.525391Z",
     "start_time": "2025-07-28T15:24:40.506789Z"
    }
   },
   "cell_type": "code",
   "source": "resp",
   "id": "8ca49a66c5cdc56f",
   "outputs": [
    {
     "ename": "AttributeError",
     "evalue": "'Response' object has no attribute 'body'",
     "output_type": "error",
     "traceback": [
      "\u001B[31m---------------------------------------------------------------------------\u001B[39m",
      "\u001B[31mAttributeError\u001B[39m                            Traceback (most recent call last)",
      "\u001B[36mCell\u001B[39m\u001B[36m \u001B[39m\u001B[32mIn[16]\u001B[39m\u001B[32m, line 1\u001B[39m\n\u001B[32m----> \u001B[39m\u001B[32m1\u001B[39m \u001B[43mresp\u001B[49m\u001B[43m.\u001B[49m\u001B[43mbody\u001B[49m()\n",
      "\u001B[31mAttributeError\u001B[39m: 'Response' object has no attribute 'body'"
     ]
    }
   ],
   "execution_count": 16
  },
  {
   "metadata": {
    "ExecuteTime": {
     "end_time": "2025-07-28T15:25:35.000057Z",
     "start_time": "2025-07-28T15:25:34.996401Z"
    }
   },
   "cell_type": "code",
   "source": [
    "import shutil\n",
    "\n",
    "with open('img.png', 'wb') as out_file:\n",
    "    shutil.copyfileobj(resp.raw, out_file)"
   ],
   "id": "6bfb42849ada5b61",
   "outputs": [],
   "execution_count": 18
  },
  {
   "metadata": {
    "ExecuteTime": {
     "end_time": "2025-07-28T15:26:55.201745Z",
     "start_time": "2025-07-28T15:26:55.194363Z"
    }
   },
   "cell_type": "code",
   "source": "import urllib",
   "id": "68202c82d1509fb",
   "outputs": [],
   "execution_count": 19
  },
  {
   "metadata": {
    "ExecuteTime": {
     "end_time": "2025-07-28T15:45:17.763694Z",
     "start_time": "2025-07-28T15:45:17.759393Z"
    }
   },
   "cell_type": "code",
   "source": [
    "X_START = 75433\n",
    "X_STOP = 75536\n",
    "Y_START = 50830\n",
    "Y_STOP = 50879"
   ],
   "id": "a7920178ca2f6190",
   "outputs": [],
   "execution_count": 33
  },
  {
   "metadata": {
    "ExecuteTime": {
     "end_time": "2025-07-28T15:45:18.202336Z",
     "start_time": "2025-07-28T15:45:18.199054Z"
    }
   },
   "cell_type": "code",
   "source": "URL = \"https://atlas.harita.gov.tr/webservis/ortofoto/17/75828/51124.jpg?apikey=rXKdDZxXgj2hgFspEC4BKG4HMittQ0Y6\"",
   "id": "3695921147383af3",
   "outputs": [],
   "execution_count": 34
  },
  {
   "metadata": {
    "ExecuteTime": {
     "end_time": "2025-07-28T15:52:24.231165Z",
     "start_time": "2025-07-28T15:49:29.354349Z"
    }
   },
   "cell_type": "code",
   "source": [
    "\n",
    "from concurrent.futures import ThreadPoolExecutor\n",
    "\n",
    "opener = urllib.request.build_opener()\n",
    "opener.addheaders = [('referer', \"https://atlas.harita.gov.tr/\")]\n",
    "urllib.request.install_opener(opener)\n",
    "\n",
    "print(f\"Total Images : {(X_STOP-X_START)*(Y_STOP-Y_START)}\")\n",
    "with ThreadPoolExecutor(max_workers=20) as executor:\n",
    "    for x in range(X_START, X_STOP):\n",
    "        for y in range(Y_START, Y_STOP):\n",
    "            future = executor.submit(urllib.request.urlretrieve, f\"https://atlas.harita.gov.tr/webservis/ortofoto/17/{x}/{y}.jpg?apikey=rXKdDZxXgj2hgFspEC4BKG4HMittQ0Y6\", f\"map/{x}_{y}.jpg\")\n",
    "print(\"Download complete!\")\n",
    "\n"
   ],
   "id": "e29c828d172d4170",
   "outputs": [
    {
     "name": "stdout",
     "output_type": "stream",
     "text": [
      "Total Images : 5047\n",
      "Download complete!\n"
     ]
    }
   ],
   "execution_count": 37
  },
  {
   "metadata": {},
   "cell_type": "code",
   "outputs": [],
   "execution_count": null,
   "source": "",
   "id": "6c80a59318ee4a9d"
  }
 ],
 "metadata": {
  "kernelspec": {
   "display_name": "Python 3",
   "language": "python",
   "name": "python3"
  },
  "language_info": {
   "codemirror_mode": {
    "name": "ipython",
    "version": 2
   },
   "file_extension": ".py",
   "mimetype": "text/x-python",
   "name": "python",
   "nbconvert_exporter": "python",
   "pygments_lexer": "ipython2",
   "version": "2.7.6"
  }
 },
 "nbformat": 4,
 "nbformat_minor": 5
}
